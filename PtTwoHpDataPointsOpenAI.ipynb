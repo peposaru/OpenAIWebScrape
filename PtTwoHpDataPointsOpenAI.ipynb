{
 "cells": [
  {
   "cell_type": "code",
   "execution_count": 13,
   "id": "787bd7a8-5fc5-4db9-b29c-511ec68b7810",
   "metadata": {},
   "outputs": [
    {
     "data": {
      "text/plain": [
       "'\\nPART TWO OF THREE \\n\\nCOMPANY : HP\\n\\n1. Get all product data points from company product links list.\\n\\n'"
      ]
     },
     "execution_count": 13,
     "metadata": {},
     "output_type": "execute_result"
    }
   ],
   "source": [
    "\"\"\"\n",
    "PART TWO OF THREE \n",
    "\n",
    "COMPANY : HP\n",
    "\n",
    "1. Get all product data points from company product links list.\n",
    "\n",
    "\"\"\""
   ]
  },
  {
   "cell_type": "code",
   "execution_count": 4,
   "id": "dbba3e55-e489-4377-b643-c209f9186967",
   "metadata": {},
   "outputs": [],
   "source": [
    "from openai import OpenAI\n",
    "import os, json\n",
    "\n",
    "info_location = r'C:\\Users\\keena\\Desktop\\Comp Sys Project'\n",
    "\n",
    "# This is just the test url. For the real deal, instead of url, I will use a product list from a text file.\n",
    "url = \"https://www.hp.com/us-en/shop/pdp/hp-elitebook-865-16-inch-g10-notebook-pc-wolf-pro-security-edition-p-8f840ua-aba-1\"\n",
    "company_name = 'HP'\n",
    "save_file_name = company_name + '_product_data_points.txt'\n",
    "\n",
    "# Set the working directory\n",
    "os.chdir(info_location)\n",
    "\n",
    "# Set up the API key\n",
    "chatGPTCredentials = 'ChatGPTAPIKey.json'\n",
    "with open (chatGPTCredentials,'r') as credFile:\n",
    "    jsonData = json.load(credFile)\n",
    "    api_key = jsonData['key']\n",
    "OpenAI.api_key = api_key\n",
    "\n",
    "# Read product links from the input file (TURNED OFF FOR TESTING)\n",
    "#input_file = 'product_links.txt' \n",
    "# with open(input_file, 'r') as file:\n",
    "    # product_links = [line.strip() for line in file.readlines()]\n",
    "\n",
    "product_links = [url]"
   ]
  },
  {
   "cell_type": "code",
   "execution_count": 15,
   "id": "2926c801-f760-4dcd-bc9a-105a6d646652",
   "metadata": {},
   "outputs": [
    {
     "name": "stdout",
     "output_type": "stream",
     "text": [
      "Link: https://www.hp.com/us-en/shop/pdp/hp-elitebook-865-16-inch-g10-notebook-pc-wolf-pro-security-edition-p-8f840ua-aba-1\n",
      "Data:\n",
      "\"HP EliteBook 865 16-inch G10 Notebook PC Wolf Pro Security Edition\",\"865 G10\",\"EliteBook\",N/A,N/A,AMD,\"Ryzen 7 PRO 7850U\",8,16,N/A,\"4.7 GHz\",AMD,\"Radeon Graphics\",\"Integrated\",\"16 GB\",\"LPDDR5\",N/A,SSD,\"512 GB\",\"16 inches\",\"1920 x 1200 (WUXGA)\",N/A,IPS,\"14.07 x 9.22 x 0.79 inches\",\"4.11 pounds\",N/A,\"68 WHr\",N/A,\"65W USB-C Adapter\",\"2 x USB-C, 2 x USB-A\",\"1 x HDMI 2.0\",\"1 x Headphone/Microphone Combo\",\"Wi-Fi 6E, Bluetooth 5.2\",\"Windows 11 Pro\",\"HP Wolf Security, HP QuickDrop\",\"Backlit, Spill-resistant\",\"Multi-touch Gesture Support\",\"Fingerprint Reader, IR Camera\",\"720p HD IR\",\"Dual Stereo Speakers\",N/A,\"3 Year Limited Warranty\",\"24/7 Support\"\n",
      "Tokens Used: 672\n",
      "Cost: $0.0055899999999999995\n",
      "Total Cost: $0.0055899999999999995\n"
     ]
    }
   ],
   "source": [
    "# Prepare to store extracted data entries\n",
    "extracted_data_entries = []\n",
    "total_cost = 0\n",
    "\n",
    "# Loop through each product link and extract data using OpenAI API\n",
    "for link in product_links:\n",
    "    # Example prompt for OpenAI API\n",
    "    prompt = f\"\"\"Generate CSV data for each provided link with the following columns:\n",
    "products,model,product_line,price,discounted_price,cpu_manufacturer,cpu_model,cpu_cores,cpu_threads,cpu_base_clock_speed,cpu_turbo_clock_speed,gpu_manufacturer,gpu_model,gpu_vram,ram_capacity,ram_type,ram_speed,storage_type,storage_capacity,display_size,display_resolution,display_refresh_rate,display_panel_type,dimensions,weight,material,battery_capacity,battery_life,power_supply,usb_ports,hdmi_displayport,audio_ports,network_connectivity,operating_system,pre_installed_software,keyboard,touchpad,security_features,webcam,speakers,cooling_system,warranty,customer_support\n",
    "\n",
    "Example Output:\n",
    "\"EliteBook 865 16-inch G10 Notebook PC Wolf Pro Security Edition\",\"865 G10\",\"EliteBook\",N/A,N/A,AMD,Ryzen 7 PRO 7850U,8,16,N/A,4.7 GHz,AMD,Radeon Graphics,Integrated,\"16 GB\",LPDDR5,N/A,SSD,\"512 GB\",\"16 inches\",\"1920 x 1200 (WUXGA)\",N/A,IPS,\"14.07 x 9.22 x 0.79 inches\",\"4.11 pounds\",N/A,\"68 WHr\",N/A,\"65W USB-C Adapter\",\"2 x USB-C, 2 x USB-A\",\"1 x HDMI 2.0\",\"1 x Headphone/Microphone Combo\",\"Wi-Fi 6E, Bluetooth 5.2\",Windows 11 Pro,\"HP Wolf Security, HP QuickDrop\",\"Backlit, Spill-resistant\",\"Multi-touch Gesture Support\",\"Fingerprint Reader, IR Camera\",\"720p HD IR\",\"Dual Stereo Speakers\",\"N/A\",\"3 Year Limited Warranty\",\"24/7 Support\"\n",
    "\n",
    "Link:\n",
    "{link}\n",
    "Please respond with only the datapoints in csv format. If data point not available, use N/A.\n",
    "\"\"\"\n",
    "    client = OpenAI()\n",
    "\n",
    "    response = client.chat.completions.create(\n",
    "        model=\"gpt-4o\",\n",
    "        messages=[{\"role\": \"system\", \"content\": prompt}],\n",
    "        max_tokens=500\n",
    "    )\n",
    "\n",
    "    data = response.choices[0].message.content.strip()\n",
    "    tokens_used = response.usage.total_tokens\n",
    "    prompt_tokens = response.usage.prompt_tokens\n",
    "    completion_tokens = response.usage.completion_tokens\n",
    "\n",
    "    prompt_cost = prompt_tokens * 5 / 1000000  # GPT-4o input cost\n",
    "    input_cost = completion_tokens * 15 / 1000000  # GPT-4o output cost\n",
    "\n",
    "    extracted_data_entries.append(data)\n",
    "    current_total_cost = prompt_cost + input_cost\n",
    "    total_cost += current_total_cost\n",
    "    \n",
    "    print(f\"Link: {link}\\nData:\\n{data}\\nTokens Used: {tokens_used}\\nCost: ${current_total_cost}\")\n",
    "\n",
    "# Write the extracted data to the output file\n",
    "output_file = save_file_name\n",
    "with open(output_file, 'a') as file:\n",
    "    for entry in extracted_data_entries:\n",
    "        file.write(entry + \"\\n\\n\")\n",
    "\n",
    "# Print the total cost\n",
    "print(f\"Total Cost: ${total_cost:.4f}\")\n"
   ]
  },
  {
   "cell_type": "code",
   "execution_count": null,
   "id": "c8c23a7a-4141-471e-8bdd-233bc9f8aa9a",
   "metadata": {},
   "outputs": [],
   "source": []
  }
 ],
 "metadata": {
  "kernelspec": {
   "display_name": "Python 3 (ipykernel)",
   "language": "python",
   "name": "python3"
  },
  "language_info": {
   "codemirror_mode": {
    "name": "ipython",
    "version": 3
   },
   "file_extension": ".py",
   "mimetype": "text/x-python",
   "name": "python",
   "nbconvert_exporter": "python",
   "pygments_lexer": "ipython3",
   "version": "3.12.0"
  }
 },
 "nbformat": 4,
 "nbformat_minor": 5
}
