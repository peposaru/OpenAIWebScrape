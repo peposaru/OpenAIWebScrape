{
 "cells": [
  {
   "cell_type": "code",
   "execution_count": null,
   "id": "f6b09bb1-0022-4bcc-9479-a7578f877244",
   "metadata": {},
   "outputs": [],
   "source": [
    "\"\"\"\n",
    "COMPUTER SYSTEMS OF EVERY MAJOR COMPANY SCRAPER\n",
    "\n",
    "This tool is designed to collect data on every computer system produced by major companies. \n",
    "It leverages OpenAI to gather and assign data to specific data points automatically.\n",
    "\n",
    "Without OpenAI\n",
    "    Without using OpenAI to populate the data automatically, you would need to:\n",
    "        -Identify elements/selectors for each site and update them if the HTML is dynamic (like on Amazon).\n",
    "                -Manually figure out elements/selectors for each of the ~45 data points.\n",
    "                -This process cannot be automated with OpenAI.\n",
    "        -Use Selenium and BeautifulSoup for web scraping.\n",
    "        -Potentially figure out an API for each site.\n",
    "        -Gather specific elements/selectors for:\n",
    "            -45 data points\n",
    "            -15 sites\n",
    "            -50 products per site\n",
    "        This results in 33,750 combinations (assuming elements/selectors differ for each product on the same site). \n",
    "        This doesn't include figuring out variations of the same product on the same page.\n",
    "\n",
    "With OpenAI\n",
    "    Using OpenAI simplifies the process:\n",
    "        -Input a concise prompt with as few tokens as possible.\n",
    "        -Manually input the list of products.\n",
    "            -No consistent way was found to accurately scrape all products from a product page, so this must be done manually.\n",
    "            -This process can take about 5-10 hours, depending on the number of products.\n",
    "        -OpenAI responds with text in CSV format, which is automatically written to a text file.\n",
    "            -This can be converted into a CSV data file for further use.\n",
    "            \n",
    "\"\"\""
   ]
  },
  {
   "cell_type": "code",
   "execution_count": 15,
   "id": "1a4a4174-3857-4956-b693-9b09690bb418",
   "metadata": {},
   "outputs": [
    {
     "name": "stdout",
     "output_type": "stream",
     "text": [
      "INITIAL SET UP SUCCESS\n"
     ]
    }
   ],
   "source": [
    "from openai import OpenAI\n",
    "import json, os\n",
    "\n",
    "# Initial Set up\n",
    "while True:\n",
    "    try:\n",
    "        dataLocation = (r'C:\\Users\\keena\\Desktop\\Comp Sys Project')\n",
    "        os.chdir(dataLocation)\n",
    "        chatGPTCredentials = 'ChatGPTAPIKey.json'\n",
    "        with open (chatGPTCredentials,'r') as credFile:\n",
    "            jsonData = json.load(credFile)\n",
    "            api_key = jsonData['key']\n",
    "        print ('INITIAL SET UP SUCCESS')\n",
    "        break\n",
    "\n",
    "    except Exception as err:\n",
    "        print ('INITIAL SET UP FAILED')\n",
    "        continue"
   ]
  },
  {
   "cell_type": "code",
   "execution_count": 21,
   "id": "bf67ee7c-1d16-46d9-bbc2-82ef7f8ce8f9",
   "metadata": {},
   "outputs": [],
   "source": [
    "client = OpenAI(api_key=api_key)\n",
    "\n",
    "# Use the Concise Prompt Evaluator Here -> https://chatgpt.com/g/g-mxx60FhwP-concise-prompt-evaluator\n",
    "# How should the ai respond and with what? Formal professional or casual teacher?\n",
    "aiRole        = \"\"\"Generate CSV data for each provided link with the following columns:\n",
    "company,data_acquired_date,products,model,product_line,price,discounted_price,cpu_manufacturer,cpu_model,cpu_cores,cpu_threads,cpu_base_clock_speed,cpu_turbo_clock_speed,gpu_manufacturer,gpu_model,gpu_vram,ram_capacity,ram_type,ram_speed,storage_type,storage_capacity,display_size,display_resolution,display_refresh_rate,display_panel_type,dimensions,weight,material,battery_capacity,battery_life,power_supply,usb_ports,hdmi_displayport,audio_ports,network_connectivity,operating_system,pre_installed_software,keyboard,touchpad,security_features,webcam,speakers,cooling_system,warranty,customer_support,url\n",
    "\n",
    "Example:\n",
    "Dell,2024-06-21,\"XPS 13 9345 Laptop\",XPS 13,XPS,1449.99,1349.99,Intel,Core i7-8550U,4,8,\"1.8 GHz\",\"4.0 GHz\",Intel,\"UHD Graphics 620\",Integrated,\"8 GB\",LPDDR3,\"1866 MHz\",SSD,\"256 GB\",\"13.3 inches\",\"1920 x 1080 (Full HD)\",\"60 Hz\",IPS,\"11.9 x 7.8 x 0.46 inches\",\"2.7 pounds\",Aluminum,\"52 WHr\",\"Up to 11 hours\",\"45W AC Adapter\",\"2 x USB-C (Thunderbolt 3)\",\"Available via adapter\",\"1 x Headphone/Microphone Combo\",\"Wi-Fi 6, Bluetooth 5.1\",Windows 10 Home,\"Microsoft Office Trial, McAfee LiveSafe\",\"Backlit, Chiclet-style\",\"Precision Touchpad\",\"Fingerprint Reader, TPM 2.0\",\"720p HD\",\"Stereo Speakers\",\"Dual Fan\",\"1 Year Limited Hardware Warranty\",\"24/7 Premium Support\",\"https://www.dell.com/en-us/shop/dell-laptops/new-xps-13-laptop/spd/xps-13-9345-laptop/usexchbts9345hchl?ref=variantstack\"\n",
    "\n",
    "Please respond with only the CSV data, including all variations if available.\n",
    "\"\"\"\n",
    "\n",
    "# This part is where all the links for each company product goes.\n",
    "humanQuestion = \"\"\"\n",
    "https://www.dell.com/en-us/shop/dell-laptops/new-xps-13-laptop/spd/xps-13-9345-laptop/usexchbts9345hchl?ref=variantstack\n",
    "https://www.dell.com/en-us/shop/dell-laptops/new-inspiron-14-plus-laptop/spd/inspiron-14-7441-laptop/useichbts7441hcjp?ref=variantstack\n",
    "https://www.apple.com/shop/buy-mac/macbook-air/13-inch-m2\n",
    "https://www.apple.com/shop/buy-mac/macbook-pro\n",
    "https://us.vaio.com/products/vaio-sx14-vjs146x0311\n",
    "\"\"\"\n",
    "\n",
    "response = client.chat.completions.create(\n",
    "    model=\"gpt-3.5-turbo\",\n",
    "    messages = [\n",
    "        {\"role\":\"system\", \"content\" : aiRole},\n",
    "        {\"role\":\"user\", \"content\": humanQuestion}\n",
    "    ]\n",
    ")\n",
    "\n",
    "csv_data = response.choices[0].message.content"
   ]
  },
  {
   "cell_type": "code",
   "execution_count": 24,
   "id": "a1f3af98-2e21-4c31-8d60-cdcdface29e5",
   "metadata": {},
   "outputs": [
    {
     "name": "stdout",
     "output_type": "stream",
     "text": [
      "Prompt tokens: 617\n",
      "Completion tokens: 1379\n",
      "Total tokens: 1996\n",
      "Cost in USD: $0.003684\n"
     ]
    }
   ],
   "source": [
    "# If you want to calculate the costs\n",
    "\n",
    "# Extract the number of tokens used\n",
    "prompt_tokens = response.usage.prompt_tokens\n",
    "completion_tokens = response.usage.completion_tokens\n",
    "total_tokens = response.usage.total_tokens\n",
    "\n",
    "# Pricing for GPT-3.5 Turbo\n",
    "cost_per_1000_tokens_input = 0.0015  # USD\n",
    "cost_per_1000_tokens_output = 0.002  # USD\n",
    "\n",
    "# Calculate the cost\n",
    "input_cost = (prompt_tokens / 1000) * cost_per_1000_tokens_input\n",
    "output_cost = (completion_tokens / 1000) * cost_per_1000_tokens_output\n",
    "total_cost = input_cost + output_cost\n",
    "\n",
    "# Print the results\n",
    "print(f\"Prompt tokens: {prompt_tokens}\")\n",
    "print(f\"Completion tokens: {completion_tokens}\")\n",
    "print(f\"Total tokens: {total_tokens}\")\n",
    "print(f\"Cost in USD: ${total_cost:.6f}\")"
   ]
  },
  {
   "cell_type": "code",
   "execution_count": 22,
   "id": "d32eb90c-6c37-4f85-b35e-3e45dc17f13c",
   "metadata": {},
   "outputs": [
    {
     "name": "stdout",
     "output_type": "stream",
     "text": [
      "company,data_acquired_date,products,model,product_line,price,discounted_price,cpu_manufacturer,cpu_model,cpu_cores,cpu_threads,cpu_base_clock_speed,cpu_turbo_clock_speed,gpu_manufacturer,gpu_model,gpu_vram,ram_capacity,ram_type,ram_speed,storage_type,storage_capacity,display_size,display_resolution,display_refresh_rate,display_panel_type,dimensions,weight,material,battery_capacity,battery_life,power_supply,usb_ports,hdmi_displayport,audio_ports,network_connectivity,operating_system,pre_installed_software,keyboard,touchpad,security_features,webcam,speakers,cooling_system,warranty,customer_support,url\n",
      "\n",
      "Dell,2024-06-21,\"XPS 13 9345 Laptop\",XPS 13,XPS,1449.99,1349.99,Intel,Core i7-8550U,4,8,\"1.8 GHz\",\"4.0 GHz\",Intel,UHD Graphics 620,8 GB,LPDDR3,1866 MHz,SSD,256 GB,\"13.3 inches\",\"1920 x 1080 (Full HD)\",\"60 Hz\",IPS,\"11.9 x 7.8 x 0.46 inches\",\"2.7 pounds\",Aluminum,\"52 WHr\",\"Up to 11 hours\",\"45W AC Adapter\",\"2 x USB-C (Thunderbolt 3)\",\"Available via adapter\",\"1 x Headphone/Microphone Combo\",\"Wi-Fi 6, Bluetooth 5.1\",Windows 10 Home,\"Microsoft Office Trial, McAfee LiveSafe\",\"Backlit, Chiclet-style\",\"Precision Touchpad\",\"Fingerprint Reader, TPM 2.0\",\"720p HD\",\"Stereo Speakers\",\"Dual Fan\",\"1 Year Limited Hardware Warranty\",\"24/7 Premium Support\",\"https://www.dell.com/en-us/shop/dell-laptops/new-xps-13-laptop/spd/xps-13-9345-laptop/usexchbts9345hchl?ref=variantstack\"\n",
      "\n",
      "Dell,2024-06-21,\"Inspiron 14 Plus Laptop\",Inspiron 14,Inspiron,799.99,749.99,Intel,Core i5-11300H,4,8,\"3.1 GHz\",\"4.4 GHz\",Intel,\"Iris Xe Graphics\",16 GB,DDR4,\"3200 MHz\",SSD,512 GB,\"14 inches\",\"2736 x 1824\",\"60 Hz\",IPS,\"12.53 x 8.78 x 0.66 inches\",\"3.41 pounds\",Aluminum,\"54 WHr\",\"Up to 10 hours\",\"65W AC Adapter\",\"1 x USB-C, 2 x USB-A\",\"1 x HDMI 2.0\",\"1 x Headphone/Microphone Combo\",\"Wi-Fi 6, Bluetooth 5.1\",Windows 11 Home,\"--\",\"Backlit, Chiclet-style\",\"Precision Touchpad\",\"Fingerprint Reader\",\"720p HD\",\"Stereo Speakers\",\"Dual Fan\",\"1 Year Limited Hardware Warranty\",\"24/7 Premium Support\",\"https://www.dell.com/en-us/shop/dell-laptops/new-inspiron-14-plus-laptop/spd/inspiron-14-7441-laptop/useichbts7441hcjp?ref=variantstack\"\n",
      "\n",
      "Apple,2024-06-21,\"MacBook Air 13-inch M2\",\"MacBook Air\",1199.00,,Apple,M2,8,8,,\"--\",Apple,\"5-core\",8 GB,LPDDR5,,\"--\",SSD,256 GB,\"13.3 inches\",\"2560 x 1600 Retina\",\"60 Hz\",IPS,\"11.97 x 8.36 x 0.63 inches\",\"2.88 pounds\",\"Aluminum,\"--\",\"Up to 18 hours\",\"--\",\"2 x Thunderbolt 4\",\"1 x 3.5 mm headphone jack\",\"Wi-Fi 6, Bluetooth 5.0\",\"macOS Monterey\",\"--\",\"Backlit, Scissor Mechanism\",\"Force Touch trackpad\",\"Touch ID\",\"720p FaceTime HD\",\"Stereo speakers\",\"Fanless design\",\"1 Year Limited Warranty\",\"90 days of complimentary technical support\",\"https://www.apple.com/shop/buy-mac/macbook-air/13-inch-m2\"\n",
      "\n",
      "Apple,2024-06-21,\"MacBook Pro\",\"MacBook Pro\",1299.00,,Apple,M1 Pro,8,8,,\"--\",Apple,\"14-core\",16 GB,LPDDR5,,\"--\",SSD,512 GB,\"14 inches\",\"3024 x 1964 Retina\",\"120 Hz\",Mini-LED,\"12.27 x 8.68 x 0.61 inches\",\"3.5 pounds\",\"Aluminum\",\"--\",\"Up to 20 hours\",\"--\",\"3 x Thunderbolt 4\",\"1 x 3.5 mm headphone jack\",\"Wi-Fi 6, Bluetooth 5.1\",\"macOS Monterey\",\"--\",\"Backlit, Scissor Mechanism\",\"Force Touch trackpad\",\"Touch ID\",\"1080p FaceTime HD\",\"Six-speaker sound system with force-cancelling woofers\",\"Thermal system with enlarged heat pipes and a double-sided impeller\",\"1 Year Limited Warranty\",\"90 days of complimentary technical support\",\"https://www.apple.com/shop/buy-mac/macbook-pro\"\n",
      "\n",
      "VAIO,2024-06-21,\"VAIO SX14 VJS146X0311\",\"VAIO SX14\",1999.99,,Intel,Core i7-11778U,4,8,\"2.9 GHz\",\"4.8 GHz\",Intel,Iris Xe MAX,16 GB,LPDDR4,\"4266 MHz\",SSD,1 TB,\"14 inches\",\"3840 x 2160 (UHD 4K)\",\"60 Hz\",IPS,\"12.56 x 8.72 x 0.7 inches\",\"2.32 pounds\",\"Aluminum\",\"50 WHr\",\"Up to 7 hours\",\"65W AC Adapter\",\"2 x Thunderbolt 4, 2 x USB-A 3.2\",\"1 x HDMI, 1 x SD Card Reader\",\"1 x Headphone/Microphone Combo\",\"Wi-Fi 6, Bluetooth 5.1\",\"Windows 11 Pro\",\"McAfee LiveSafe (30-day trial), VAIO Care\",\"Backlit, Chiclet-style\",\"Precision Touchpad\",\"--\",\"HD Web Camera\",\"Stereo speakers\",\"Dual Fan with Liquid Metal\",\"1 Year Limited Warranty\",\"Online and Phone Support\",\"https://us.vaio.com/products/vaio-sx14-vjs146x0311\"\n"
     ]
    }
   ],
   "source": [
    "\n",
    "print (csv_data)\n",
    "\n",
    "with open ('TEST.txt', 'a') as file:\n",
    "    file.write(csv_data + '\\n')\n",
    "    "
   ]
  }
 ],
 "metadata": {
  "kernelspec": {
   "display_name": "Python 3 (ipykernel)",
   "language": "python",
   "name": "python3"
  },
  "language_info": {
   "codemirror_mode": {
    "name": "ipython",
    "version": 3
   },
   "file_extension": ".py",
   "mimetype": "text/x-python",
   "name": "python",
   "nbconvert_exporter": "python",
   "pygments_lexer": "ipython3",
   "version": "3.12.0"
  }
 },
 "nbformat": 4,
 "nbformat_minor": 5
}
